{
 "cells": [
  {
   "cell_type": "code",
   "execution_count": 11,
   "metadata": {},
   "outputs": [],
   "source": [
    "import pandas as pd"
   ]
  },
  {
   "cell_type": "code",
   "execution_count": 19,
   "metadata": {},
   "outputs": [
    {
     "data": {
      "text/plain": [
       "0      forward 7\n",
       "1         down 1\n",
       "2      forward 9\n",
       "3      forward 4\n",
       "4      forward 7\n",
       "         ...    \n",
       "995       down 9\n",
       "996    forward 7\n",
       "997       down 5\n",
       "998       down 6\n",
       "999    forward 9\n",
       "Name: 0, Length: 1000, dtype: object"
      ]
     },
     "execution_count": 19,
     "metadata": {},
     "output_type": "execute_result"
    }
   ],
   "source": [
    "d2input = pd.read_csv('d2_input.txt', header=None, squeeze=True)\n",
    "d2input"
   ]
  },
  {
   "cell_type": "code",
   "execution_count": 20,
   "metadata": {},
   "outputs": [
    {
     "data": {
      "text/plain": [
       "(1944, 1049, 2039256)"
      ]
     },
     "execution_count": 20,
     "metadata": {},
     "output_type": "execute_result"
    }
   ],
   "source": [
    "horizontal = 0\n",
    "depth = 0\n",
    "\n",
    "for instruction in d2input:\n",
    "    instruction = instruction.split(' ')\n",
    "\n",
    "    if instruction[0] == 'forward':\n",
    "        horizontal += int(instruction[1])\n",
    "    elif instruction[0] == 'up':\n",
    "        depth -= int(instruction[1])\n",
    "    elif instruction[0] == 'down':\n",
    "        depth += int(instruction[1])\n",
    "\n",
    "horizontal, depth, horizontal*depth"
   ]
  },
  {
   "cell_type": "code",
   "execution_count": 21,
   "metadata": {},
   "outputs": [
    {
     "data": {
      "text/plain": [
       "(1944, 954969, 1856459736)"
      ]
     },
     "execution_count": 21,
     "metadata": {},
     "output_type": "execute_result"
    }
   ],
   "source": [
    "horizontal = 0\n",
    "depth = 0\n",
    "aim = 0\n",
    "\n",
    "for instruction in d2input:\n",
    "    instruction = instruction.split(' ')\n",
    "\n",
    "    if instruction[0] == 'forward':\n",
    "        horizontal += int(instruction[1])\n",
    "        depth += aim * int(instruction[1])\n",
    "    elif instruction[0] == 'up':\n",
    "        aim -= int(instruction[1])\n",
    "    elif instruction[0] == 'down':\n",
    "        aim += int(instruction[1])\n",
    "\n",
    "horizontal, depth, horizontal*depth"
   ]
  },
  {
   "cell_type": "code",
   "execution_count": null,
   "metadata": {},
   "outputs": [],
   "source": []
  }
 ],
 "metadata": {
  "interpreter": {
   "hash": "33d82247624afc0262d1a157077d4fcc9322cf4e7b12f0d5aa5a7412cea8313a"
  },
  "kernelspec": {
   "display_name": "Python 3.9.7 ('base')",
   "language": "python",
   "name": "python3"
  },
  "language_info": {
   "codemirror_mode": {
    "name": "ipython",
    "version": 3
   },
   "file_extension": ".py",
   "mimetype": "text/x-python",
   "name": "python",
   "nbconvert_exporter": "python",
   "pygments_lexer": "ipython3",
   "version": "3.9.7"
  },
  "orig_nbformat": 4
 },
 "nbformat": 4,
 "nbformat_minor": 2
}
