{
 "cells": [
  {
   "cell_type": "code",
   "execution_count": 2,
   "metadata": {},
   "outputs": [
    {
     "name": "stdout",
     "output_type": "stream",
     "text": [
      "Initial state: [3, 4, 3, 1, 2]\n"
     ]
    }
   ],
   "source": [
    "fish = [3,4,3,1,2]\n",
    "\n",
    "# with open('d6_input.txt') as f:\n",
    "#     fish = f.read().split(',')\n",
    "#     fish = [int(f) for f in fish]\n",
    "\n",
    "print('Initial state:', fish)"
   ]
  },
  {
   "cell_type": "code",
   "execution_count": 3,
   "metadata": {},
   "outputs": [
    {
     "data": {
      "text/plain": [
       "5934"
      ]
     },
     "execution_count": 3,
     "metadata": {},
     "output_type": "execute_result"
    }
   ],
   "source": [
    "def fish_population(fish, days):\n",
    "    for d in range(last_day):\n",
    "        for i, f in enumerate(fish):\n",
    "            fish[i] = f-1\n",
    "            if f == 0:\n",
    "                fish[i] = 6\n",
    "                fish.append(9)\n",
    "        # print(f'Day {d+1:2}: {fish}')\n",
    "    return len(fish)\n",
    "\n",
    "last_day = 80\n",
    "fish_population(fish, last_day)"
   ]
  }
 ],
 "metadata": {
  "kernelspec": {
   "display_name": "Python 3.9.7 ('base')",
   "language": "python",
   "name": "python3"
  },
  "language_info": {
   "codemirror_mode": {
    "name": "ipython",
    "version": 3
   },
   "file_extension": ".py",
   "mimetype": "text/x-python",
   "name": "python",
   "nbconvert_exporter": "python",
   "pygments_lexer": "ipython3",
   "version": "3.9.7"
  },
  "orig_nbformat": 4,
  "vscode": {
   "interpreter": {
    "hash": "33d82247624afc0262d1a157077d4fcc9322cf4e7b12f0d5aa5a7412cea8313a"
   }
  }
 },
 "nbformat": 4,
 "nbformat_minor": 2
}
