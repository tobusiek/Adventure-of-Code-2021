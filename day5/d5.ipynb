{
 "cells": [
  {
   "cell_type": "code",
   "execution_count": 428,
   "metadata": {},
   "outputs": [],
   "source": [
    "# with open('d5test.txt') as f:\n",
    "with open('d5input.txt') as f:\n",
    "    d5input = f.readlines()\n",
    "# d5input"
   ]
  },
  {
   "cell_type": "code",
   "execution_count": 429,
   "metadata": {},
   "outputs": [],
   "source": [
    "d5input = [x.replace('\\n', '') for x in d5input]\n",
    "# d5input"
   ]
  },
  {
   "cell_type": "code",
   "execution_count": 430,
   "metadata": {},
   "outputs": [],
   "source": [
    "d5input = [x.split(' -> ') for x in d5input]\n",
    "# d5input"
   ]
  },
  {
   "cell_type": "code",
   "execution_count": 431,
   "metadata": {},
   "outputs": [],
   "source": [
    "xmax = 0\n",
    "ymax = 0\n",
    "for i, line in enumerate(d5input):\n",
    "    d5input[i] = [line[0].split(','), line[1].split(',')]\n",
    "    for j, l in enumerate(d5input[i]):\n",
    "        xint = int(l[0])\n",
    "        yint = int(l[1])\n",
    "        d5input[i][j] = (xint, yint)\n",
    "        if xint > xmax: xmax = xint\n",
    "        if yint > ymax: ymax = yint\n",
    "# print(xmax, ymax)\n",
    "# d5input"
   ]
  },
  {
   "cell_type": "code",
   "execution_count": 432,
   "metadata": {},
   "outputs": [],
   "source": [
    "grid = list()\n",
    "for i in range(ymax+1):\n",
    "    row = list()\n",
    "    for j in range(xmax+1):\n",
    "        row.append('.')\n",
    "    grid.append(row)\n",
    "# grid"
   ]
  },
  {
   "cell_type": "code",
   "execution_count": 433,
   "metadata": {},
   "outputs": [],
   "source": [
    "def print_grid():\n",
    "    print('   ', end='')\n",
    "    for j in range(xmax+1):\n",
    "        print(j, end=' ')\n",
    "    print('\\n  --------------------')\n",
    "\n",
    "    for i in range(ymax+1):\n",
    "        print(i, '|', sep='', end=' ')\n",
    "\n",
    "        for j in range(xmax+1):\n",
    "            print(grid[i][j], end=' ')\n",
    "        print()\n",
    "\n",
    "\n",
    "for line in d5input:\n",
    "    xfrom, yfrom = line[0][0], line[0][1]\n",
    "    xto, yto = line[1][0], line[1][1]\n",
    "\n",
    "    if xfrom > xto: xfrom, xto = xto, xfrom\n",
    "    if yfrom > yto: yfrom, yto = yto, yfrom\n",
    "\n",
    "    if xfrom == xto or yfrom == yto:\n",
    "        for i in range(yfrom, yto+1):\n",
    "            for j in range(xfrom, xto+1):\n",
    "                if grid[i][j] == '.':\n",
    "                    grid[i][j] = '1'\n",
    "                else:\n",
    "                    grid[i][j] = str(int(grid[i][j])+1)\n",
    "\n",
    "# print_grid()"
   ]
  },
  {
   "cell_type": "code",
   "execution_count": 434,
   "metadata": {},
   "outputs": [
    {
     "name": "stdout",
     "output_type": "stream",
     "text": [
      "overlap=5124\n"
     ]
    }
   ],
   "source": [
    "def calc_overlap():\n",
    "    overlap = 0\n",
    "    for i in range(ymax+1):\n",
    "        for j in range(xmax+1):\n",
    "            if grid[i][j] != '.' and \\\n",
    "                int(grid[i][j]) > 1:\n",
    "                overlap += 1\n",
    "    print(f'{overlap=}')\n",
    "\n",
    "calc_overlap()"
   ]
  },
  {
   "cell_type": "code",
   "execution_count": 435,
   "metadata": {},
   "outputs": [],
   "source": [
    "grid = list()\n",
    "for i in range(ymax+1):\n",
    "    row = list()\n",
    "    for j in range(xmax+1):\n",
    "        row.append('.')\n",
    "    grid.append(row)"
   ]
  },
  {
   "cell_type": "code",
   "execution_count": 436,
   "metadata": {},
   "outputs": [
    {
     "name": "stdout",
     "output_type": "stream",
     "text": [
      "overlap=19771\n"
     ]
    }
   ],
   "source": [
    "for line in d5input:\n",
    "    xfrom, yfrom = line[0][0], line[0][1]\n",
    "    xto, yto = line[1][0], line[1][1]\n",
    "    \n",
    "    if xfrom == xto:\n",
    "        for y in range(min(yfrom, yto), max(yfrom, yto)+1):\n",
    "            if grid[y][xfrom] == '.': grid[y][xfrom] = '1'\n",
    "            else: grid[y][xfrom] = str(int(grid[y][xfrom])+1)\n",
    "        continue\n",
    "    \n",
    "    if yfrom == yto:\n",
    "        for x in range(min(xfrom, xto), max(xfrom, xto)+1):\n",
    "            if grid[yfrom][x] == '.': grid[yfrom][x] = '1'\n",
    "            else: grid[yfrom][x] = str(int(grid[yfrom][x])+1)\n",
    "        continue\n",
    "    \n",
    "    if abs(xfrom-xto) > abs(yfrom-yto):\n",
    "        line_len = abs(xfrom-xto)+1\n",
    "    else: line_len = abs(yfrom-yto)+1\n",
    "\n",
    "    xdir = 1 if xfrom < xto else -1\n",
    "    ydir = 1 if yfrom < yto else -1\n",
    "\n",
    "    for i in range(line_len):\n",
    "        x = xfrom + i*xdir\n",
    "        y = yfrom + i*ydir\n",
    "        if grid[y][x] == '.': grid[y][x] = '1'\n",
    "        else: grid[y][x] = str(int(grid[y][x])+1)\n",
    "\n",
    "\n",
    "# print_grid()\n",
    "calc_overlap()"
   ]
  }
 ],
 "metadata": {
  "kernelspec": {
   "display_name": "Python 3.9.7 ('base')",
   "language": "python",
   "name": "python3"
  },
  "language_info": {
   "codemirror_mode": {
    "name": "ipython",
    "version": 3
   },
   "file_extension": ".py",
   "mimetype": "text/x-python",
   "name": "python",
   "nbconvert_exporter": "python",
   "pygments_lexer": "ipython3",
   "version": "3.9.7"
  },
  "orig_nbformat": 4,
  "vscode": {
   "interpreter": {
    "hash": "33d82247624afc0262d1a157077d4fcc9322cf4e7b12f0d5aa5a7412cea8313a"
   }
  }
 },
 "nbformat": 4,
 "nbformat_minor": 2
}
