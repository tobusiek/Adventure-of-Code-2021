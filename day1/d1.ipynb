{
 "cells": [
  {
   "cell_type": "code",
   "execution_count": 4,
   "metadata": {},
   "outputs": [],
   "source": [
    "import pandas as pd"
   ]
  },
  {
   "cell_type": "code",
   "execution_count": 5,
   "metadata": {},
   "outputs": [
    {
     "data": {
      "text/plain": [
       "0        159\n",
       "1        158\n",
       "2        174\n",
       "3        196\n",
       "4        197\n",
       "        ... \n",
       "1995    8538\n",
       "1996    8543\n",
       "1997    8545\n",
       "1998    8557\n",
       "1999    8568\n",
       "Name: 0, Length: 2000, dtype: int64"
      ]
     },
     "execution_count": 5,
     "metadata": {},
     "output_type": "execute_result"
    }
   ],
   "source": [
    "d1input = pd.read_csv('d1_input.txt', header=None, index_col=False, squeeze=True)\n",
    "d1input"
   ]
  },
  {
   "cell_type": "code",
   "execution_count": 6,
   "metadata": {},
   "outputs": [
    {
     "data": {
      "text/plain": [
       "1583"
      ]
     },
     "execution_count": 6,
     "metadata": {},
     "output_type": "execute_result"
    }
   ],
   "source": [
    "inc_count = 0\n",
    "\n",
    "for i in range(1, len(d1input)):\n",
    "    if d1input.at[i-1] < d1input.at[i]:\n",
    "        inc_count += 1\n",
    "\n",
    "inc_count"
   ]
  },
  {
   "cell_type": "code",
   "execution_count": 8,
   "metadata": {},
   "outputs": [
    {
     "data": {
      "text/plain": [
       "1627"
      ]
     },
     "execution_count": 8,
     "metadata": {},
     "output_type": "execute_result"
    }
   ],
   "source": [
    "inc_count = 0\n",
    "\n",
    "for i in range(3, len(d1input)):\n",
    "    sum1 = d1input.iloc[i-3:i].sum()\n",
    "    sum2 = d1input.iloc[i-2:i+1].sum()\n",
    "\n",
    "    # print('A:', d1input.iloc[i-3], d1input.iloc[i-2], d1input.iloc[i-1], '=', sum1)\n",
    "    # print('B:', d1input.iloc[i-2], d1input.iloc[i-1], d1input.iloc[i], '=', sum2)\n",
    "    \n",
    "    if sum1 < sum2:\n",
    "        inc_count += 1\n",
    "    # print(inc_count)\n",
    "\n",
    "inc_count"
   ]
  },
  {
   "cell_type": "code",
   "execution_count": null,
   "metadata": {},
   "outputs": [],
   "source": []
  }
 ],
 "metadata": {
  "interpreter": {
   "hash": "33d82247624afc0262d1a157077d4fcc9322cf4e7b12f0d5aa5a7412cea8313a"
  },
  "kernelspec": {
   "display_name": "Python 3.9.7 ('base')",
   "language": "python",
   "name": "python3"
  },
  "language_info": {
   "codemirror_mode": {
    "name": "ipython",
    "version": 3
   },
   "file_extension": ".py",
   "mimetype": "text/x-python",
   "name": "python",
   "nbconvert_exporter": "python",
   "pygments_lexer": "ipython3",
   "version": "3.9.7"
  },
  "orig_nbformat": 4
 },
 "nbformat": 4,
 "nbformat_minor": 2
}
